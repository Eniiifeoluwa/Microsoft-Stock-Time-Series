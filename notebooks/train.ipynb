{
 "cells": [
  {
   "cell_type": "code",
   "execution_count": 1,
   "id": "37c21c87",
   "metadata": {},
   "outputs": [],
   "source": [
    "import os\n",
    "from sklearn.model_selection import train_test_split\n",
    "from sklearn.preprocessing import MinMaxScaler\n",
    "from sklearn.metrics import mean_squared_error, r2_score\n",
    "import pandas as pd\n",
    "import numpy as np\n",
    "from sklearn.linear_model import LinearRegression"
   ]
  },
  {
   "cell_type": "code",
   "execution_count": 2,
   "id": "2ea7f278",
   "metadata": {},
   "outputs": [],
   "source": [
    "dataset = pd.read_csv(\"Microsoft_Stock.csv\")\n",
    "dataset.set_index('Date', inplace= True)"
   ]
  },
  {
   "cell_type": "code",
   "execution_count": 3,
   "id": "4c787e48",
   "metadata": {},
   "outputs": [
    {
     "data": {
      "text/html": [
       "<div>\n",
       "<style scoped>\n",
       "    .dataframe tbody tr th:only-of-type {\n",
       "        vertical-align: middle;\n",
       "    }\n",
       "\n",
       "    .dataframe tbody tr th {\n",
       "        vertical-align: top;\n",
       "    }\n",
       "\n",
       "    .dataframe thead th {\n",
       "        text-align: right;\n",
       "    }\n",
       "</style>\n",
       "<table border=\"1\" class=\"dataframe\">\n",
       "  <thead>\n",
       "    <tr style=\"text-align: right;\">\n",
       "      <th></th>\n",
       "      <th>Open</th>\n",
       "      <th>High</th>\n",
       "      <th>Low</th>\n",
       "      <th>Close</th>\n",
       "      <th>Volume</th>\n",
       "    </tr>\n",
       "    <tr>\n",
       "      <th>Date</th>\n",
       "      <th></th>\n",
       "      <th></th>\n",
       "      <th></th>\n",
       "      <th></th>\n",
       "      <th></th>\n",
       "    </tr>\n",
       "  </thead>\n",
       "  <tbody>\n",
       "    <tr>\n",
       "      <th>4/1/2015 16:00:00</th>\n",
       "      <td>40.60</td>\n",
       "      <td>40.76</td>\n",
       "      <td>40.31</td>\n",
       "      <td>40.72</td>\n",
       "      <td>36865322</td>\n",
       "    </tr>\n",
       "    <tr>\n",
       "      <th>4/2/2015 16:00:00</th>\n",
       "      <td>40.66</td>\n",
       "      <td>40.74</td>\n",
       "      <td>40.12</td>\n",
       "      <td>40.29</td>\n",
       "      <td>37487476</td>\n",
       "    </tr>\n",
       "    <tr>\n",
       "      <th>4/6/2015 16:00:00</th>\n",
       "      <td>40.34</td>\n",
       "      <td>41.78</td>\n",
       "      <td>40.18</td>\n",
       "      <td>41.55</td>\n",
       "      <td>39223692</td>\n",
       "    </tr>\n",
       "    <tr>\n",
       "      <th>4/7/2015 16:00:00</th>\n",
       "      <td>41.61</td>\n",
       "      <td>41.91</td>\n",
       "      <td>41.31</td>\n",
       "      <td>41.53</td>\n",
       "      <td>28809375</td>\n",
       "    </tr>\n",
       "    <tr>\n",
       "      <th>4/8/2015 16:00:00</th>\n",
       "      <td>41.48</td>\n",
       "      <td>41.69</td>\n",
       "      <td>41.04</td>\n",
       "      <td>41.42</td>\n",
       "      <td>24753438</td>\n",
       "    </tr>\n",
       "    <tr>\n",
       "      <th>...</th>\n",
       "      <td>...</td>\n",
       "      <td>...</td>\n",
       "      <td>...</td>\n",
       "      <td>...</td>\n",
       "      <td>...</td>\n",
       "    </tr>\n",
       "    <tr>\n",
       "      <th>3/25/2021 16:00:00</th>\n",
       "      <td>235.30</td>\n",
       "      <td>236.94</td>\n",
       "      <td>231.57</td>\n",
       "      <td>232.34</td>\n",
       "      <td>34061853</td>\n",
       "    </tr>\n",
       "    <tr>\n",
       "      <th>3/26/2021 16:00:00</th>\n",
       "      <td>231.55</td>\n",
       "      <td>236.71</td>\n",
       "      <td>231.55</td>\n",
       "      <td>236.48</td>\n",
       "      <td>25479853</td>\n",
       "    </tr>\n",
       "    <tr>\n",
       "      <th>3/29/2021 16:00:00</th>\n",
       "      <td>236.59</td>\n",
       "      <td>236.80</td>\n",
       "      <td>231.88</td>\n",
       "      <td>235.24</td>\n",
       "      <td>25227455</td>\n",
       "    </tr>\n",
       "    <tr>\n",
       "      <th>3/30/2021 16:00:00</th>\n",
       "      <td>233.53</td>\n",
       "      <td>233.85</td>\n",
       "      <td>231.10</td>\n",
       "      <td>231.85</td>\n",
       "      <td>24792012</td>\n",
       "    </tr>\n",
       "    <tr>\n",
       "      <th>3/31/2021 16:00:00</th>\n",
       "      <td>232.91</td>\n",
       "      <td>239.10</td>\n",
       "      <td>232.39</td>\n",
       "      <td>235.77</td>\n",
       "      <td>43623471</td>\n",
       "    </tr>\n",
       "  </tbody>\n",
       "</table>\n",
       "<p>1511 rows × 5 columns</p>\n",
       "</div>"
      ],
      "text/plain": [
       "                      Open    High     Low   Close    Volume\n",
       "Date                                                        \n",
       "4/1/2015 16:00:00    40.60   40.76   40.31   40.72  36865322\n",
       "4/2/2015 16:00:00    40.66   40.74   40.12   40.29  37487476\n",
       "4/6/2015 16:00:00    40.34   41.78   40.18   41.55  39223692\n",
       "4/7/2015 16:00:00    41.61   41.91   41.31   41.53  28809375\n",
       "4/8/2015 16:00:00    41.48   41.69   41.04   41.42  24753438\n",
       "...                    ...     ...     ...     ...       ...\n",
       "3/25/2021 16:00:00  235.30  236.94  231.57  232.34  34061853\n",
       "3/26/2021 16:00:00  231.55  236.71  231.55  236.48  25479853\n",
       "3/29/2021 16:00:00  236.59  236.80  231.88  235.24  25227455\n",
       "3/30/2021 16:00:00  233.53  233.85  231.10  231.85  24792012\n",
       "3/31/2021 16:00:00  232.91  239.10  232.39  235.77  43623471\n",
       "\n",
       "[1511 rows x 5 columns]"
      ]
     },
     "execution_count": 3,
     "metadata": {},
     "output_type": "execute_result"
    }
   ],
   "source": [
    "dataset"
   ]
  },
  {
   "cell_type": "code",
   "execution_count": 44,
   "id": "337d903a",
   "metadata": {},
   "outputs": [],
   "source": [
    "overview = dataset.describe()\n",
    "overview.loc[['min', 'max']].to_json('schema_in.json', indent = 4)"
   ]
  },
  {
   "cell_type": "code",
   "execution_count": 5,
   "id": "5e5c40a9",
   "metadata": {},
   "outputs": [
    {
     "name": "stdout",
     "output_type": "stream",
     "text": [
      "The RMSE is: 10709718.185805803, MSE: 114698063619379.55, r2_score is -0.29887368055809227\n"
     ]
    }
   ],
   "source": [
    "X_train, Y_train = dataset.drop(columns= ['Volume']), dataset['Volume']\n",
    "\n",
    "scaler = MinMaxScaler()\n",
    "X_scaled = scaler.fit_transform(X_train.values)\n",
    "model = LinearRegression()\n",
    "model.fit(X_scaled, Y_train)\n",
    "X_test_scaled = scaler.transform(X_train.values)\n",
    "Y_pred = model.predict(X_test_scaled)\n",
    "rmse = np.sqrt(mean_squared_error(Y_pred.reshape(-1, 1), Y_train))\n",
    "mse = mean_squared_error(Y_pred.reshape(-1, 1), Y_train)\n",
    "r2 = r2_score(Y_pred.reshape(-1, 1), Y_train)\n",
    "print(f\"The RMSE is: {rmse}, MSE: {mse}, r2_score is {r2}\")"
   ]
  },
  {
   "cell_type": "code",
   "execution_count": 9,
   "id": "134bc8e4",
   "metadata": {},
   "outputs": [
    {
     "name": "stdout",
     "output_type": "stream",
     "text": [
      "name 'a' is not defined\n"
     ]
    }
   ],
   "source": [
    "try:\n",
    "    2 + a == 8\n",
    "except NameError as e:\n",
    "    print(str(e))"
   ]
  },
  {
   "cell_type": "code",
   "execution_count": null,
   "id": "4ba4de34",
   "metadata": {},
   "outputs": [],
   "source": []
  },
  {
   "cell_type": "code",
   "execution_count": 29,
   "id": "9f00a3f1",
   "metadata": {},
   "outputs": [],
   "source": [
    "m = add(2, 3)"
   ]
  },
  {
   "cell_type": "code",
   "execution_count": 30,
   "id": "efbe494f",
   "metadata": {},
   "outputs": [
    {
     "ename": "TypeError",
     "evalue": "'NoneType' object is not callable",
     "output_type": "error",
     "traceback": [
      "\u001b[1;31m---------------------------------------------------------------------------\u001b[0m",
      "\u001b[1;31mTypeError\u001b[0m                                 Traceback (most recent call last)",
      "Cell \u001b[1;32mIn[30], line 1\u001b[0m\n\u001b[1;32m----> 1\u001b[0m m(\u001b[38;5;241m2\u001b[39m, \u001b[38;5;241m3\u001b[39m)\n",
      "\u001b[1;31mTypeError\u001b[0m: 'NoneType' object is not callable"
     ]
    }
   ],
   "source": [
    "m(2, 3)"
   ]
  },
  {
   "cell_type": "code",
   "execution_count": null,
   "id": "155ed049",
   "metadata": {},
   "outputs": [],
   "source": []
  },
  {
   "cell_type": "code",
   "execution_count": null,
   "id": "782ecd99",
   "metadata": {},
   "outputs": [],
   "source": []
  }
 ],
 "metadata": {
  "kernelspec": {
   "display_name": "base",
   "language": "python",
   "name": "python3"
  },
  "language_info": {
   "codemirror_mode": {
    "name": "ipython",
    "version": 3
   },
   "file_extension": ".py",
   "mimetype": "text/x-python",
   "name": "python",
   "nbconvert_exporter": "python",
   "pygments_lexer": "ipython3",
   "version": "3.12.7"
  }
 },
 "nbformat": 4,
 "nbformat_minor": 5
}
