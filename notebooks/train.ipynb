{
 "cells": [
  {
   "cell_type": "code",
   "execution_count": 8,
   "id": "6e15045d",
   "metadata": {},
   "outputs": [],
   "source": [
    "import pandas as pd\n",
    "import numpy as np\n",
    "import seaborn as sns\n",
    "import matplotlib.pyplot as plt\n",
    "import torch\n",
    "import torch.nn as nn\n",
    "import torch.nn.functional as F"
   ]
  },
  {
   "cell_type": "code",
   "execution_count": null,
   "id": "1823f45a",
   "metadata": {},
   "outputs": [],
   "source": [
    "dataset = pd.read_csv('Microsoft_Stock.csv', date_format= )\n",
    "dataset['Date'] = pd.DatetimeIndex(dataset['Date'])\n",
    "trainining_size = int(0.8*len(dataset))\n",
    "training_set = dataset[:trainining_size]\n",
    "testing_set = dataset[:trainining_size:]"
   ]
  },
  {
   "cell_type": "code",
   "execution_count": null,
   "id": "da94cc56",
   "metadata": {},
   "outputs": [
    {
     "data": {
      "text/plain": [
       "0       4\n",
       "1       4\n",
       "2       4\n",
       "3       4\n",
       "4       4\n",
       "       ..\n",
       "1506    3\n",
       "1507    3\n",
       "1508    3\n",
       "1509    3\n",
       "1510    3\n",
       "Name: Date, Length: 1511, dtype: int32"
      ]
     },
     "execution_count": 22,
     "metadata": {},
     "output_type": "execute_result"
    }
   ],
   "source": []
  },
  {
   "cell_type": "code",
   "execution_count": null,
   "id": "2c3c9ebc",
   "metadata": {},
   "outputs": [],
   "source": []
  }
 ],
 "metadata": {
  "language_info": {
   "name": "python"
  }
 },
 "nbformat": 4,
 "nbformat_minor": 5
}
